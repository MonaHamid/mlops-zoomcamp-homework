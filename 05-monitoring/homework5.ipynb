{
 "cells": [
  {
   "cell_type": "code",
   "execution_count": 48,
   "id": "ee3a3201",
   "metadata": {},
   "outputs": [],
   "source": [
    "import requests\n",
    "import datetime\n",
    "import pandas as pd\n",
    "import os\n",
    "\n",
    "from evidently import ColumnMapping\n",
    "from evidently.report import Report\n",
    "from evidently.metrics import ColumnDriftMetric, DatasetDriftMetric, DatasetMissingValuesMetric, DatasetCorrelationsMetric, ColumnQuantileMetric\n",
    "\n",
    "from joblib import load, dump\n",
    "from tqdm import tqdm\n",
    "\n",
    "from sklearn.linear_model import LinearRegression\n",
    "from sklearn.metrics import mean_absolute_error, mean_absolute_percentage_error"
   ]
  },
  {
   "cell_type": "code",
   "execution_count": 36,
   "id": "4bfbc549",
   "metadata": {},
   "outputs": [
    {
     "name": "stdout",
     "output_type": "stream",
     "text": [
      "Downloading March 2024 Green Taxi data...\n",
      " Data downloaded successfully!\n",
      "\n",
      " Dataset Info:\n",
      "Shape: (57457, 20)\n",
      "Number of rows: 57457\n",
      "Number of columns: 20\n",
      "\n",
      " Column names:\n",
      "['VendorID', 'lpep_pickup_datetime', 'lpep_dropoff_datetime', 'store_and_fwd_flag', 'RatecodeID', 'PULocationID', 'DOLocationID', 'passenger_count', 'trip_distance', 'fare_amount', 'extra', 'mta_tax', 'tip_amount', 'tolls_amount', 'ehail_fee', 'improvement_surcharge', 'total_amount', 'payment_type', 'trip_type', 'congestion_surcharge']\n",
      "\n",
      " First few rows:\n",
      "   VendorID lpep_pickup_datetime lpep_dropoff_datetime store_and_fwd_flag  \\\n",
      "0         2  2024-03-01 00:10:52   2024-03-01 00:26:12                  N   \n",
      "1         2  2024-03-01 00:22:21   2024-03-01 00:35:15                  N   \n",
      "2         2  2024-03-01 00:45:27   2024-03-01 01:04:32                  N   \n",
      "3         1  2024-03-01 00:02:00   2024-03-01 00:23:45                  N   \n",
      "4         2  2024-03-01 00:16:45   2024-03-01 00:23:25                  N   \n",
      "\n",
      "   RatecodeID  PULocationID  DOLocationID  passenger_count  trip_distance  \\\n",
      "0         1.0           129           226              1.0           1.72   \n",
      "1         1.0           130           218              1.0           3.25   \n",
      "2         1.0           255           107              2.0           4.58   \n",
      "3         1.0           181            71              1.0           0.00   \n",
      "4         1.0            95           135              1.0           1.15   \n",
      "\n",
      "   fare_amount  extra  mta_tax  tip_amount  tolls_amount  ehail_fee  \\\n",
      "0         12.8    1.0      0.5        3.06           0.0        NaN   \n",
      "1         17.7    1.0      0.5        0.00           0.0        NaN   \n",
      "2         23.3    1.0      0.5        3.50           0.0        NaN   \n",
      "3         22.5    0.0      1.5        0.00           0.0        NaN   \n",
      "4          8.6    1.0      0.5        1.00           0.0        NaN   \n",
      "\n",
      "   improvement_surcharge  total_amount  payment_type  trip_type  \\\n",
      "0                    1.0         18.36           1.0        1.0   \n",
      "1                    1.0         20.20           2.0        1.0   \n",
      "2                    1.0         32.05           1.0        1.0   \n",
      "3                    1.0         24.00           1.0        1.0   \n",
      "4                    1.0         12.10           1.0        1.0   \n",
      "\n",
      "   congestion_surcharge  \n",
      "0                  0.00  \n",
      "1                  0.00  \n",
      "2                  2.75  \n",
      "3                  0.00  \n",
      "4                  0.00  \n",
      "\n",
      " Fare amount statistics:\n",
      "count    57457.000000\n",
      "mean        17.313474\n",
      "std         14.958249\n",
      "min       -295.080000\n",
      "25%          9.300000\n",
      "50%         13.500000\n",
      "75%         19.800000\n",
      "max        841.600000\n",
      "Name: fare_amount, dtype: float64\n"
     ]
    }
   ],
   "source": [
    "\n",
    "\n",
    "# Download March 2024 Green Taxi data\n",
    "print(\"Downloading March 2024 Green Taxi data...\")\n",
    "url = \"https://d37ci6vzurychx.cloudfront.net/trip-data/green_tripdata_2024-03.parquet\"\n",
    "\n",
    "try:\n",
    "    response = requests.get(url)\n",
    "    with open('green_tripdata_2024-03.parquet', 'wb') as f:\n",
    "        f.write(response.content)\n",
    "    print(\" Data downloaded successfully!\")\n",
    "    \n",
    "    # Load and examine the data\n",
    "    df = pd.read_parquet('green_tripdata_2024-03.parquet')\n",
    "    print(f\"\\n Dataset Info:\")\n",
    "    print(f\"Shape: {df.shape}\")\n",
    "    print(f\"Number of rows: {df.shape[0]}\")\n",
    "    print(f\"Number of columns: {df.shape[1]}\")\n",
    "    \n",
    "    print(f\"\\n Column names:\")\n",
    "    print(df.columns.tolist())\n",
    "    \n",
    "    print(f\"\\n First few rows:\")\n",
    "    print(df.head())\n",
    "    \n",
    "    print(f\"\\n Fare amount statistics:\")\n",
    "    print(df['fare_amount'].describe())\n",
    "    \n",
    "except Exception as e:\n",
    "    print(f\" Error downloading data: {e}\")"
   ]
  },
  {
   "cell_type": "markdown",
   "id": "87b6cc7d",
   "metadata": {},
   "source": [
    " Prepare the data for training"
   ]
  },
  {
   "cell_type": "code",
   "execution_count": 37,
   "id": "2953e662",
   "metadata": {},
   "outputs": [
    {
     "name": "stdout",
     "output_type": "stream",
     "text": [
      " Data is ready for model training.\n",
      " Features: ['passenger_count', 'trip_distance', 'fare_amount', 'total_amount', 'PULocationID', 'DOLocationID']\n",
      " Target: duration_min\n",
      " Shape: (54135, 21)\n"
     ]
    }
   ],
   "source": [
    "# Load the March data if not already loaded\n",
    "march_data = pd.read_parquet('green_tripdata_2024-03.parquet')\n",
    "\n",
    "# Create the target column (trip duration in minutes)\n",
    "march_data[\"duration_min\"] = march_data.lpep_dropoff_datetime - march_data.lpep_pickup_datetime\n",
    "march_data[\"duration_min\"] = march_data[\"duration_min\"].apply(lambda td: td.total_seconds() / 60)\n",
    "\n",
    "# Filter outliers\n",
    "march_data = march_data[(march_data[\"duration_min\"] >= 0) & (march_data[\"duration_min\"] <= 60)]\n",
    "march_data = march_data[(march_data[\"passenger_count\"] > 0) & (march_data[\"passenger_count\"] <= 8)]\n",
    "\n",
    "# Define target and feature columns\n",
    "target = \"duration_min\"\n",
    "num_features = [\"passenger_count\", \"trip_distance\", \"fare_amount\", \"total_amount\"]\n",
    "cat_features = [\"PULocationID\", \"DOLocationID\"]\n",
    "\n",
    "print(\" Data is ready for model training.\")\n",
    "print(\" Features:\", num_features + cat_features)\n",
    "print(\" Target:\", target)\n",
    "print(\" Shape:\", march_data.shape)"
   ]
  },
  {
   "cell_type": "markdown",
   "id": "97c2a82e",
   "metadata": {},
   "source": [
    "Train a simple model"
   ]
  },
  {
   "cell_type": "code",
   "execution_count": null,
   "id": "dfed0bb7",
   "metadata": {},
   "outputs": [
    {
     "name": "stdout",
     "output_type": "stream",
     "text": [
      "Model training complete.\n",
      " Predictions added to both train and validation datasets.\n"
     ]
    }
   ],
   "source": [
    "\n",
    "\n",
    "# Split data into training and validation sets\n",
    "train_data = march_data[:30000].copy()\n",
    "val_data = march_data[30000:].copy()\n",
    "\n",
    "# Initialize and train the model\n",
    "model = LinearRegression()\n",
    "model.fit(train_data[num_features + cat_features], train_data[target])\n",
    "\n",
    "print(\"Model training complete.\")\n",
    "\n",
    "#   Generate predictions\n",
    "train_preds = model.predict(train_data[num_features + cat_features])\n",
    "train_data['prediction'] = train_preds\n",
    "\n",
    "val_preds = model.predict(val_data[num_features + cat_features])\n",
    "val_data['prediction'] = val_preds\n",
    "\n",
    "print(\" Predictions added to both train and validation datasets.\")\n"
   ]
  },
  {
   "cell_type": "markdown",
   "id": "f5abcfa9",
   "metadata": {},
   "source": [
    "Dump the Model and Reference Data for Monitoring"
   ]
  },
  {
   "cell_type": "code",
   "execution_count": 39,
   "id": "e9d5fc67",
   "metadata": {},
   "outputs": [
    {
     "name": "stdout",
     "output_type": "stream",
     "text": [
      " Model saved to 'models/lin_reg.bin'.\n",
      " Reference data saved to 'data/reference.parquet'.\n"
     ]
    }
   ],
   "source": [
    "import os\n",
    "from joblib import dump\n",
    "\n",
    "# Create directories if they don't exist\n",
    "os.makedirs(\"models\", exist_ok=True)\n",
    "os.makedirs(\"data\", exist_ok=True)\n",
    "\n",
    "#  Save the trained model\n",
    "with open('models/lin_reg.bin', 'wb') as f_out:\n",
    "    dump(model, f_out)\n",
    "print(\" Model saved to 'models/lin_reg.bin'.\")\n",
    "\n",
    "#  Save the validation data as reference dataset\n",
    "val_data.to_parquet('data/reference.parquet')\n",
    "print(\" Reference data saved to 'data/reference.parquet'.\")\n"
   ]
  },
  {
   "cell_type": "markdown",
   "id": "c8a9c29a",
   "metadata": {},
   "source": [
    " Generate and Show Evidently Report"
   ]
  },
  {
   "cell_type": "code",
   "execution_count": 40,
   "id": "ba67922c",
   "metadata": {},
   "outputs": [
    {
     "name": "stdout",
     "output_type": "stream",
     "text": [
      "Prediction Drift Score: 0.01006459378009672\n",
      "Number of Drifted Columns: 0\n",
      "Share of Missing Values: 0.045458312145695616\n",
      "Fare Amount Quantile (0.5):\n",
      "  Reference: 13.5\n",
      "  Current: 13.5\n"
     ]
    }
   ],
   "source": [
    "from evidently.report import Report\n",
    "from evidently import ColumnMapping\n",
    "from evidently.metrics import (\n",
    "    ColumnDriftMetric,\n",
    "    ColumnQuantileMetric,\n",
    "    DatasetDriftMetric,\n",
    "    DatasetMissingValuesMetric,\n",
    "    DatasetCorrelationsMetric\n",
    ")\n",
    "\n",
    "# Define column mapping\n",
    "column_mapping = ColumnMapping(\n",
    "    target=None,\n",
    "    prediction='prediction',\n",
    "    numerical_features=num_features,\n",
    "    categorical_features=cat_features\n",
    ")\n",
    "\n",
    "#  Define report with expanded metrics\n",
    "report = Report(metrics=[\n",
    "    ColumnDriftMetric(column_name='prediction'),\n",
    "    ColumnQuantileMetric(column_name='fare_amount', quantile=0.5),\n",
    "    DatasetDriftMetric(),\n",
    "    DatasetMissingValuesMetric(),\n",
    "    DatasetCorrelationsMetric()\n",
    "])\n",
    "\n",
    "#  Run the report\n",
    "report.run(reference_data=train_data, current_data=val_data, column_mapping=column_mapping)\n",
    "\n",
    "#  Show the report inline (if running in Jupyter)\n",
    "report.show(mode='inline')\n",
    "\n",
    "#  Extract results\n",
    "result = report.as_dict()\n",
    "\n",
    "# Print individual metric results\n",
    "print(\"Prediction Drift Score:\", result['metrics'][0]['result']['drift_score'])\n",
    "print(\"Number of Drifted Columns:\", result['metrics'][2]['result']['number_of_drifted_columns'])\n",
    "print(\"Share of Missing Values:\", result['metrics'][3]['result']['current']['share_of_missing_values'])\n",
    "print(\"Fare Amount Quantile (0.5):\")\n",
    "print(\"  Reference:\", result['metrics'][1]['result']['reference']['value'])\n",
    "print(\"  Current:\", result['metrics'][1]['result']['current']['value'])"
   ]
  },
  {
   "cell_type": "markdown",
   "id": "ff5300ef",
   "metadata": {},
   "source": [
    "Expanded Evidently Monitoring with Daily Batches"
   ]
  },
  {
   "cell_type": "code",
   "execution_count": 41,
   "id": "b2437249",
   "metadata": {},
   "outputs": [],
   "source": [
    "from datetime import datetime, timedelta\n",
    "import pandas as pd\n",
    "from evidently.report import Report\n",
    "from evidently import ColumnMapping\n",
    "from evidently.metrics import ColumnQuantileMetric\n",
    "\n",
    "#  Load March 2024 data\n",
    "march_data = pd.read_parquet('green_tripdata_2024-03.parquet')\n",
    "\n",
    "\n",
    "# create target\n",
    "march_data[\"duration_min\"] = march_data.lpep_dropoff_datetime - march_data.lpep_pickup_datetime\n",
    "march_data.duration_min = march_data.duration_min.apply(lambda td : float(td.total_seconds())/60)\n",
    "\n"
   ]
  },
  {
   "cell_type": "code",
   "execution_count": 42,
   "id": "5b4536ac",
   "metadata": {},
   "outputs": [],
   "source": [
    "# data labeling\n",
    "target = \"duration_min\"\n",
    "num_features = [\"passenger_count\", \"trip_distance\", \"fare_amount\", \"total_amount\"]\n",
    "cat_features = [\"PULocationID\", \"DOLocationID\"]"
   ]
  },
  {
   "cell_type": "markdown",
   "id": "8021ccbf",
   "metadata": {},
   "source": [
    "Evidently Workspace Script"
   ]
  },
  {
   "cell_type": "code",
   "execution_count": 43,
   "id": "52d8c6ba",
   "metadata": {},
   "outputs": [],
   "source": [
    "from evidently.metric_preset import DataDriftPreset, DataQualityPreset\n",
    "\n",
    "from evidently.ui.workspace import Workspace\n",
    "from evidently.ui.dashboards import DashboardPanelCounter, DashboardPanelPlot, CounterAgg, PanelValue, PlotType, ReportFilter\n",
    "from evidently.renderers.html_widgets import WidgetSize"
   ]
  },
  {
   "cell_type": "code",
   "execution_count": 44,
   "id": "8b485d8a",
   "metadata": {},
   "outputs": [],
   "source": [
    "ws = Workspace(\"workspace\")"
   ]
  },
  {
   "cell_type": "code",
   "execution_count": 45,
   "id": "a1f50b48",
   "metadata": {},
   "outputs": [
    {
     "data": {
      "text/plain": [
       "Project(id=UUID('972ee783-2fc5-4fca-9f25-52692c87247a'), name='NYC Taxi March 2024 Evaluation Reports', description='My project Fare Amount measure', dashboard=DashboardConfig(name='NYC Taxi March 2024 Evaluation Reports', panels=[], tabs=[], tab_id_to_panel_ids={}), team_id=None, date_from=None, date_to=None)"
      ]
     },
     "execution_count": 45,
     "metadata": {},
     "output_type": "execute_result"
    }
   ],
   "source": [
    "project = ws.create_project(\"NYC Taxi March 2024 Evaluation Reports\")\n",
    "project.description = \"My project Fare Amount measure\"\n",
    "project.save()"
   ]
  },
  {
   "cell_type": "code",
   "execution_count": 46,
   "id": "967a8766",
   "metadata": {},
   "outputs": [],
   "source": [
    "def add_report(metrics, column_mapping, curr_data, ref_data, start_date, end_date, project_id, ws):\n",
    "    # Generate tuples with start and end date for every day in \n",
    "    dates = [ (start_date + datetime.timedelta(n), start_date + datetime.timedelta(n+1))  \n",
    "             for n in range(int((end_date - start_date).days))]\n",
    "    for start,end in dates:\n",
    "        # DEfine the report\n",
    "        regular_report = Report(\n",
    "            metrics=metrics,\n",
    "            timestamp=start\n",
    "        )\n",
    "        #curr_data_filtered= curr_data.lpep_pickup_datetime.between(pd.Timestamp(start),pd.Timestamp(end), inclusive=\"left\")\n",
    "        curr_data_filtered= curr_data.lpep_pickup_datetime.between(start.strftime('%Y-%m-%d'),end.strftime('%Y-%m-%d'), inclusive=\"left\")\n",
    "        if curr_data_filtered.any():\n",
    "            # run the report\n",
    "            regular_report.run(reference_data=ref_data,\n",
    "                            current_data=curr_data.loc[curr_data.lpep_pickup_datetime.between(start.strftime('%Y-%m-%d'),end.strftime('%Y-%m-%d'), \n",
    "                                                                                             inclusive=\"left\")],\n",
    "                            column_mapping=column_mapping)\n",
    "    \n",
    "            # Add the report to the workspace\n",
    "            ws.add_report(project_id, regular_report)\n",
    "            #print(\"Report executed\")\n",
    "        else:\n",
    "           regular_report=None \n",
    "\n",
    "    return regular_report"
   ]
  },
  {
   "cell_type": "code",
   "execution_count": 49,
   "id": "19a67a1c",
   "metadata": {},
   "outputs": [
    {
     "name": "stderr",
     "output_type": "stream",
     "text": [
      "/home/codespace/.python/current/lib/python3.12/site-packages/evidently/metrics/data_integrity/column_summary_metric.py:181: FutureWarning:\n",
      "\n",
      "'H' is deprecated and will be removed in a future version, please use 'h' instead.\n",
      "\n",
      "/home/codespace/.python/current/lib/python3.12/site-packages/evidently/metrics/data_integrity/column_summary_metric.py:181: FutureWarning:\n",
      "\n",
      "'H' is deprecated and will be removed in a future version, please use 'h' instead.\n",
      "\n",
      "/home/codespace/.python/current/lib/python3.12/site-packages/evidently/metrics/data_integrity/column_summary_metric.py:181: FutureWarning:\n",
      "\n",
      "'H' is deprecated and will be removed in a future version, please use 'h' instead.\n",
      "\n",
      "/home/codespace/.python/current/lib/python3.12/site-packages/evidently/metrics/data_integrity/column_summary_metric.py:181: FutureWarning:\n",
      "\n",
      "'H' is deprecated and will be removed in a future version, please use 'h' instead.\n",
      "\n",
      "/home/codespace/.python/current/lib/python3.12/site-packages/evidently/metrics/data_integrity/column_summary_metric.py:181: FutureWarning:\n",
      "\n",
      "'H' is deprecated and will be removed in a future version, please use 'h' instead.\n",
      "\n",
      "/home/codespace/.python/current/lib/python3.12/site-packages/evidently/metrics/data_integrity/column_summary_metric.py:181: FutureWarning:\n",
      "\n",
      "'H' is deprecated and will be removed in a future version, please use 'h' instead.\n",
      "\n",
      "/home/codespace/.python/current/lib/python3.12/site-packages/evidently/metrics/data_integrity/column_summary_metric.py:181: FutureWarning:\n",
      "\n",
      "'H' is deprecated and will be removed in a future version, please use 'h' instead.\n",
      "\n",
      "/home/codespace/.python/current/lib/python3.12/site-packages/evidently/metrics/data_integrity/column_summary_metric.py:181: FutureWarning:\n",
      "\n",
      "'H' is deprecated and will be removed in a future version, please use 'h' instead.\n",
      "\n",
      "/home/codespace/.python/current/lib/python3.12/site-packages/evidently/metrics/data_integrity/column_summary_metric.py:181: FutureWarning:\n",
      "\n",
      "'H' is deprecated and will be removed in a future version, please use 'h' instead.\n",
      "\n",
      "/home/codespace/.python/current/lib/python3.12/site-packages/evidently/metrics/data_integrity/column_summary_metric.py:181: FutureWarning:\n",
      "\n",
      "'H' is deprecated and will be removed in a future version, please use 'h' instead.\n",
      "\n",
      "/home/codespace/.python/current/lib/python3.12/site-packages/evidently/metrics/data_integrity/column_summary_metric.py:181: FutureWarning:\n",
      "\n",
      "'H' is deprecated and will be removed in a future version, please use 'h' instead.\n",
      "\n",
      "/home/codespace/.python/current/lib/python3.12/site-packages/evidently/metrics/data_integrity/column_summary_metric.py:181: FutureWarning:\n",
      "\n",
      "'H' is deprecated and will be removed in a future version, please use 'h' instead.\n",
      "\n",
      "/home/codespace/.python/current/lib/python3.12/site-packages/evidently/metrics/data_integrity/column_summary_metric.py:181: FutureWarning:\n",
      "\n",
      "'H' is deprecated and will be removed in a future version, please use 'h' instead.\n",
      "\n",
      "/home/codespace/.python/current/lib/python3.12/site-packages/evidently/metrics/data_integrity/column_summary_metric.py:181: FutureWarning:\n",
      "\n",
      "'H' is deprecated and will be removed in a future version, please use 'h' instead.\n",
      "\n",
      "/home/codespace/.python/current/lib/python3.12/site-packages/evidently/metrics/data_integrity/column_summary_metric.py:181: FutureWarning:\n",
      "\n",
      "'H' is deprecated and will be removed in a future version, please use 'h' instead.\n",
      "\n",
      "/home/codespace/.python/current/lib/python3.12/site-packages/evidently/metrics/data_integrity/column_summary_metric.py:181: FutureWarning:\n",
      "\n",
      "'H' is deprecated and will be removed in a future version, please use 'h' instead.\n",
      "\n",
      "/home/codespace/.python/current/lib/python3.12/site-packages/evidently/metrics/data_integrity/column_summary_metric.py:181: FutureWarning:\n",
      "\n",
      "'H' is deprecated and will be removed in a future version, please use 'h' instead.\n",
      "\n",
      "/home/codespace/.python/current/lib/python3.12/site-packages/evidently/metrics/data_integrity/column_summary_metric.py:181: FutureWarning:\n",
      "\n",
      "'H' is deprecated and will be removed in a future version, please use 'h' instead.\n",
      "\n",
      "/home/codespace/.python/current/lib/python3.12/site-packages/evidently/metrics/data_integrity/column_summary_metric.py:181: FutureWarning:\n",
      "\n",
      "'H' is deprecated and will be removed in a future version, please use 'h' instead.\n",
      "\n",
      "/home/codespace/.python/current/lib/python3.12/site-packages/evidently/metrics/data_integrity/column_summary_metric.py:181: FutureWarning:\n",
      "\n",
      "'H' is deprecated and will be removed in a future version, please use 'h' instead.\n",
      "\n",
      "/home/codespace/.python/current/lib/python3.12/site-packages/evidently/metrics/data_integrity/column_summary_metric.py:181: FutureWarning:\n",
      "\n",
      "'H' is deprecated and will be removed in a future version, please use 'h' instead.\n",
      "\n",
      "/home/codespace/.python/current/lib/python3.12/site-packages/evidently/metrics/data_integrity/column_summary_metric.py:181: FutureWarning:\n",
      "\n",
      "'H' is deprecated and will be removed in a future version, please use 'h' instead.\n",
      "\n",
      "/home/codespace/.python/current/lib/python3.12/site-packages/evidently/metrics/data_integrity/column_summary_metric.py:181: FutureWarning:\n",
      "\n",
      "'H' is deprecated and will be removed in a future version, please use 'h' instead.\n",
      "\n",
      "/home/codespace/.python/current/lib/python3.12/site-packages/evidently/metrics/data_integrity/column_summary_metric.py:181: FutureWarning:\n",
      "\n",
      "'H' is deprecated and will be removed in a future version, please use 'h' instead.\n",
      "\n",
      "/home/codespace/.python/current/lib/python3.12/site-packages/evidently/metrics/data_integrity/column_summary_metric.py:181: FutureWarning:\n",
      "\n",
      "'H' is deprecated and will be removed in a future version, please use 'h' instead.\n",
      "\n",
      "/home/codespace/.python/current/lib/python3.12/site-packages/evidently/metrics/data_integrity/column_summary_metric.py:181: FutureWarning:\n",
      "\n",
      "'H' is deprecated and will be removed in a future version, please use 'h' instead.\n",
      "\n",
      "/home/codespace/.python/current/lib/python3.12/site-packages/evidently/metrics/data_integrity/column_summary_metric.py:181: FutureWarning:\n",
      "\n",
      "'H' is deprecated and will be removed in a future version, please use 'h' instead.\n",
      "\n",
      "/home/codespace/.python/current/lib/python3.12/site-packages/evidently/metrics/data_integrity/column_summary_metric.py:181: FutureWarning:\n",
      "\n",
      "'H' is deprecated and will be removed in a future version, please use 'h' instead.\n",
      "\n",
      "/home/codespace/.python/current/lib/python3.12/site-packages/evidently/metrics/data_integrity/column_summary_metric.py:181: FutureWarning:\n",
      "\n",
      "'H' is deprecated and will be removed in a future version, please use 'h' instead.\n",
      "\n",
      "/home/codespace/.python/current/lib/python3.12/site-packages/evidently/metrics/data_integrity/column_summary_metric.py:181: FutureWarning:\n",
      "\n",
      "'H' is deprecated and will be removed in a future version, please use 'h' instead.\n",
      "\n",
      "/home/codespace/.python/current/lib/python3.12/site-packages/evidently/metrics/data_integrity/column_summary_metric.py:181: FutureWarning:\n",
      "\n",
      "'H' is deprecated and will be removed in a future version, please use 'h' instead.\n",
      "\n",
      "/home/codespace/.python/current/lib/python3.12/site-packages/evidently/metrics/data_integrity/column_summary_metric.py:181: FutureWarning:\n",
      "\n",
      "'H' is deprecated and will be removed in a future version, please use 'h' instead.\n",
      "\n",
      "/home/codespace/.python/current/lib/python3.12/site-packages/evidently/metrics/data_integrity/column_summary_metric.py:181: FutureWarning:\n",
      "\n",
      "'H' is deprecated and will be removed in a future version, please use 'h' instead.\n",
      "\n",
      "/home/codespace/.python/current/lib/python3.12/site-packages/evidently/metrics/data_integrity/column_summary_metric.py:181: FutureWarning:\n",
      "\n",
      "'H' is deprecated and will be removed in a future version, please use 'h' instead.\n",
      "\n",
      "/home/codespace/.python/current/lib/python3.12/site-packages/evidently/metrics/data_integrity/column_summary_metric.py:181: FutureWarning:\n",
      "\n",
      "'H' is deprecated and will be removed in a future version, please use 'h' instead.\n",
      "\n",
      "/home/codespace/.python/current/lib/python3.12/site-packages/evidently/metrics/data_integrity/column_summary_metric.py:181: FutureWarning:\n",
      "\n",
      "'H' is deprecated and will be removed in a future version, please use 'h' instead.\n",
      "\n",
      "/home/codespace/.python/current/lib/python3.12/site-packages/evidently/metrics/data_integrity/column_summary_metric.py:181: FutureWarning:\n",
      "\n",
      "'H' is deprecated and will be removed in a future version, please use 'h' instead.\n",
      "\n",
      "/home/codespace/.python/current/lib/python3.12/site-packages/evidently/metrics/data_integrity/column_summary_metric.py:181: FutureWarning:\n",
      "\n",
      "'H' is deprecated and will be removed in a future version, please use 'h' instead.\n",
      "\n",
      "/home/codespace/.python/current/lib/python3.12/site-packages/evidently/metrics/data_integrity/column_summary_metric.py:181: FutureWarning:\n",
      "\n",
      "'H' is deprecated and will be removed in a future version, please use 'h' instead.\n",
      "\n",
      "/home/codespace/.python/current/lib/python3.12/site-packages/evidently/metrics/data_integrity/column_summary_metric.py:181: FutureWarning:\n",
      "\n",
      "'H' is deprecated and will be removed in a future version, please use 'h' instead.\n",
      "\n",
      "/home/codespace/.python/current/lib/python3.12/site-packages/evidently/metrics/data_integrity/column_summary_metric.py:181: FutureWarning:\n",
      "\n",
      "'H' is deprecated and will be removed in a future version, please use 'h' instead.\n",
      "\n",
      "/home/codespace/.python/current/lib/python3.12/site-packages/evidently/metrics/data_integrity/column_summary_metric.py:181: FutureWarning:\n",
      "\n",
      "'H' is deprecated and will be removed in a future version, please use 'h' instead.\n",
      "\n",
      "/home/codespace/.python/current/lib/python3.12/site-packages/evidently/metrics/data_integrity/column_summary_metric.py:181: FutureWarning:\n",
      "\n",
      "'H' is deprecated and will be removed in a future version, please use 'h' instead.\n",
      "\n",
      "/home/codespace/.python/current/lib/python3.12/site-packages/evidently/metrics/data_integrity/column_summary_metric.py:181: FutureWarning:\n",
      "\n",
      "'H' is deprecated and will be removed in a future version, please use 'h' instead.\n",
      "\n",
      "/home/codespace/.python/current/lib/python3.12/site-packages/evidently/metrics/data_integrity/column_summary_metric.py:181: FutureWarning:\n",
      "\n",
      "'H' is deprecated and will be removed in a future version, please use 'h' instead.\n",
      "\n",
      "/home/codespace/.python/current/lib/python3.12/site-packages/evidently/metrics/data_integrity/column_summary_metric.py:181: FutureWarning:\n",
      "\n",
      "'H' is deprecated and will be removed in a future version, please use 'h' instead.\n",
      "\n",
      "/home/codespace/.python/current/lib/python3.12/site-packages/evidently/metrics/data_integrity/column_summary_metric.py:181: FutureWarning:\n",
      "\n",
      "'H' is deprecated and will be removed in a future version, please use 'h' instead.\n",
      "\n",
      "/home/codespace/.python/current/lib/python3.12/site-packages/evidently/metrics/data_integrity/column_summary_metric.py:181: FutureWarning:\n",
      "\n",
      "'H' is deprecated and will be removed in a future version, please use 'h' instead.\n",
      "\n",
      "/home/codespace/.python/current/lib/python3.12/site-packages/evidently/metrics/data_integrity/column_summary_metric.py:181: FutureWarning:\n",
      "\n",
      "'H' is deprecated and will be removed in a future version, please use 'h' instead.\n",
      "\n",
      "/home/codespace/.python/current/lib/python3.12/site-packages/evidently/metrics/data_integrity/column_summary_metric.py:181: FutureWarning:\n",
      "\n",
      "'H' is deprecated and will be removed in a future version, please use 'h' instead.\n",
      "\n",
      "/home/codespace/.python/current/lib/python3.12/site-packages/evidently/metrics/data_integrity/column_summary_metric.py:181: FutureWarning:\n",
      "\n",
      "'H' is deprecated and will be removed in a future version, please use 'h' instead.\n",
      "\n",
      "/home/codespace/.python/current/lib/python3.12/site-packages/evidently/metrics/data_integrity/column_summary_metric.py:181: FutureWarning:\n",
      "\n",
      "'H' is deprecated and will be removed in a future version, please use 'h' instead.\n",
      "\n",
      "/home/codespace/.python/current/lib/python3.12/site-packages/evidently/metrics/data_integrity/column_summary_metric.py:181: FutureWarning:\n",
      "\n",
      "'H' is deprecated and will be removed in a future version, please use 'h' instead.\n",
      "\n",
      "/home/codespace/.python/current/lib/python3.12/site-packages/evidently/metrics/data_integrity/column_summary_metric.py:181: FutureWarning:\n",
      "\n",
      "'H' is deprecated and will be removed in a future version, please use 'h' instead.\n",
      "\n",
      "/home/codespace/.python/current/lib/python3.12/site-packages/evidently/metrics/data_integrity/column_summary_metric.py:181: FutureWarning:\n",
      "\n",
      "'H' is deprecated and will be removed in a future version, please use 'h' instead.\n",
      "\n",
      "/home/codespace/.python/current/lib/python3.12/site-packages/evidently/metrics/data_integrity/column_summary_metric.py:181: FutureWarning:\n",
      "\n",
      "'H' is deprecated and will be removed in a future version, please use 'h' instead.\n",
      "\n",
      "/home/codespace/.python/current/lib/python3.12/site-packages/evidently/metrics/data_integrity/column_summary_metric.py:181: FutureWarning:\n",
      "\n",
      "'H' is deprecated and will be removed in a future version, please use 'h' instead.\n",
      "\n",
      "/home/codespace/.python/current/lib/python3.12/site-packages/evidently/metrics/data_integrity/column_summary_metric.py:181: FutureWarning:\n",
      "\n",
      "'H' is deprecated and will be removed in a future version, please use 'h' instead.\n",
      "\n",
      "/home/codespace/.python/current/lib/python3.12/site-packages/evidently/metrics/data_integrity/column_summary_metric.py:181: FutureWarning:\n",
      "\n",
      "'H' is deprecated and will be removed in a future version, please use 'h' instead.\n",
      "\n",
      "/home/codespace/.python/current/lib/python3.12/site-packages/evidently/metrics/data_integrity/column_summary_metric.py:181: FutureWarning:\n",
      "\n",
      "'H' is deprecated and will be removed in a future version, please use 'h' instead.\n",
      "\n"
     ]
    }
   ],
   "source": [
    "metrics=[\n",
    "        DataQualityPreset(),\n",
    "        ColumnQuantileMetric(column_name='fare_amount', quantile=0.5),\n",
    "]\n",
    "curr_data=march_data\n",
    "ref_data=None\n",
    "start_date = datetime.datetime(2024, 3, 1)\n",
    "end_date   = datetime.datetime(2024, 3, 31)\n",
    "project_id= project.id\n",
    "\n",
    "result_test = add_report(metrics, column_mapping, curr_data, ref_data, start_date, end_date, project_id, ws)"
   ]
  },
  {
   "cell_type": "code",
   "execution_count": 50,
   "id": "c223e450",
   "metadata": {},
   "outputs": [
    {
     "data": {
      "text/plain": [
       "Project(id=UUID('972ee783-2fc5-4fca-9f25-52692c87247a'), name='NYC Taxi March 2024 Evaluation Reports', description='My project Fare Amount measure', dashboard=DashboardConfig(name='NYC Taxi March 2024 Evaluation Reports', panels=[], tabs=[], tab_id_to_panel_ids={}), team_id=None, date_from=None, date_to=None)"
      ]
     },
     "execution_count": 50,
     "metadata": {},
     "output_type": "execute_result"
    }
   ],
   "source": [
    "project.save()"
   ]
  },
  {
   "cell_type": "markdown",
   "id": "26f69d8c",
   "metadata": {},
   "source": [
    "Define & Save the Dashboard"
   ]
  },
  {
   "cell_type": "code",
   "execution_count": 51,
   "id": "737248c8",
   "metadata": {},
   "outputs": [],
   "source": [
    "#configure the dashboard\n",
    "project.dashboard.add_panel(\n",
    "    DashboardPanelCounter(\n",
    "        filter=ReportFilter(metadata_values={}, tag_values=[]),\n",
    "        agg=CounterAgg.NONE,\n",
    "        title=\"NYC taxi March 2024 Dashboard\"\n",
    "    )\n",
    ")\n",
    "\n",
    "project.dashboard.add_panel(\n",
    "    DashboardPanelPlot(\n",
    "        filter=ReportFilter(metadata_values={}, tag_values=[]),\n",
    "        title=\"Fare Amount Quantile Count\",\n",
    "        values=[\n",
    "            PanelValue(\n",
    "                metric_id=\"ColumnQuantileMetric\",\n",
    "                field_path=\"current.value\",\n",
    "                legend=\"count\"\n",
    "            ),\n",
    "        ],\n",
    "        plot_type=PlotType.BAR,\n",
    "        size=WidgetSize.HALF,\n",
    "    ),\n",
    ")"
   ]
  },
  {
   "cell_type": "code",
   "execution_count": 52,
   "id": "6cea9ec8",
   "metadata": {},
   "outputs": [
    {
     "data": {
      "text/plain": [
       "Project(id=UUID('972ee783-2fc5-4fca-9f25-52692c87247a'), name='NYC Taxi March 2024 Evaluation Reports', description='My project Fare Amount measure', dashboard=DashboardConfig(name='NYC Taxi March 2024 Evaluation Reports', panels=[DashboardPanelCounter(type='evidently.ui.dashboards.reports.DashboardPanelCounter', id=UUID('fb319a4d-a273-47de-ac29-0d263cb31384'), title='NYC taxi March 2024 Dashboard', filter=ReportFilter(metadata_values={}, tag_values=[], include_test_suites=False), size=<WidgetSize.FULL: 2>, agg=<CounterAgg.NONE: 'none'>, value=None, text=None), DashboardPanelPlot(type='evidently.ui.dashboards.reports.DashboardPanelPlot', id=UUID('1482276b-d94b-406e-b6f0-09f020988557'), title='Fare Amount Quantile Count', filter=ReportFilter(metadata_values={}, tag_values=[], include_test_suites=False), size=<WidgetSize.HALF: 1>, values=[PanelValue(field_path='current.value', metric_id='ColumnQuantileMetric', metric_hash=None, metric_args={}, legend='count')], plot_type=<PlotType.BAR: 'bar'>)], tabs=[], tab_id_to_panel_ids={}), team_id=None, date_from=None, date_to=None)"
      ]
     },
     "execution_count": 52,
     "metadata": {},
     "output_type": "execute_result"
    }
   ],
   "source": [
    "project.save()"
   ]
  },
  {
   "cell_type": "code",
   "execution_count": 53,
   "id": "60c24606",
   "metadata": {},
   "outputs": [],
   "source": [
    "project.dashboard.add_panel(\n",
    "    DashboardPanelPlot(\n",
    "        filter=ReportFilter(metadata_values={}, tag_values=[]),\n",
    "        title=\"Inference Count\",\n",
    "        values=[\n",
    "            PanelValue(\n",
    "                metric_id=\"DatasetSummaryMetric\",\n",
    "                field_path=\"current.number_of_rows\",\n",
    "                legend=\"count\"\n",
    "            ),\n",
    "        ],\n",
    "        plot_type=PlotType.BAR,\n",
    "        size=WidgetSize.HALF,\n",
    "    ),\n",
    ")\n",
    "\n",
    "project.dashboard.add_panel(\n",
    "    DashboardPanelPlot(\n",
    "        filter=ReportFilter(metadata_values={}, tag_values=[]),\n",
    "        title=\"Number of Missing Values\",\n",
    "        values=[\n",
    "            PanelValue(\n",
    "                metric_id=\"DatasetSummaryMetric\",\n",
    "                field_path=\"current.number_of_missing_values\",\n",
    "                legend=\"count\"\n",
    "            ),\n",
    "        ],\n",
    "        plot_type=PlotType.LINE,\n",
    "        size=WidgetSize.HALF,\n",
    "    ),\n",
    ")"
   ]
  },
  {
   "cell_type": "code",
   "execution_count": 54,
   "id": "76569fba",
   "metadata": {},
   "outputs": [
    {
     "data": {
      "text/plain": [
       "Project(id=UUID('972ee783-2fc5-4fca-9f25-52692c87247a'), name='NYC Taxi March 2024 Evaluation Reports', description='My project Fare Amount measure', dashboard=DashboardConfig(name='NYC Taxi March 2024 Evaluation Reports', panels=[DashboardPanelCounter(type='evidently.ui.dashboards.reports.DashboardPanelCounter', id=UUID('fb319a4d-a273-47de-ac29-0d263cb31384'), title='NYC taxi March 2024 Dashboard', filter=ReportFilter(metadata_values={}, tag_values=[], include_test_suites=False), size=<WidgetSize.FULL: 2>, agg=<CounterAgg.NONE: 'none'>, value=None, text=None), DashboardPanelPlot(type='evidently.ui.dashboards.reports.DashboardPanelPlot', id=UUID('1482276b-d94b-406e-b6f0-09f020988557'), title='Fare Amount Quantile Count', filter=ReportFilter(metadata_values={}, tag_values=[], include_test_suites=False), size=<WidgetSize.HALF: 1>, values=[PanelValue(field_path='current.value', metric_id='ColumnQuantileMetric', metric_hash=None, metric_args={}, legend='count')], plot_type=<PlotType.BAR: 'bar'>), DashboardPanelPlot(type='evidently.ui.dashboards.reports.DashboardPanelPlot', id=UUID('d767e783-5b5c-44e7-aa96-447ae3aefce9'), title='Inference Count', filter=ReportFilter(metadata_values={}, tag_values=[], include_test_suites=False), size=<WidgetSize.HALF: 1>, values=[PanelValue(field_path='current.number_of_rows', metric_id='DatasetSummaryMetric', metric_hash=None, metric_args={}, legend='count')], plot_type=<PlotType.BAR: 'bar'>), DashboardPanelPlot(type='evidently.ui.dashboards.reports.DashboardPanelPlot', id=UUID('4a908f2b-e5f2-450e-a0b6-1e8031601dee'), title='Number of Missing Values', filter=ReportFilter(metadata_values={}, tag_values=[], include_test_suites=False), size=<WidgetSize.HALF: 1>, values=[PanelValue(field_path='current.number_of_missing_values', metric_id='DatasetSummaryMetric', metric_hash=None, metric_args={}, legend='count')], plot_type=<PlotType.LINE: 'line'>)], tabs=[], tab_id_to_panel_ids={}), team_id=None, date_from=None, date_to=None)"
      ]
     },
     "execution_count": 54,
     "metadata": {},
     "output_type": "execute_result"
    }
   ],
   "source": [
    "project.save()"
   ]
  }
 ],
 "metadata": {
  "kernelspec": {
   "display_name": "Python 3",
   "language": "python",
   "name": "python3"
  },
  "language_info": {
   "codemirror_mode": {
    "name": "ipython",
    "version": 3
   },
   "file_extension": ".py",
   "mimetype": "text/x-python",
   "name": "python",
   "nbconvert_exporter": "python",
   "pygments_lexer": "ipython3",
   "version": "3.12.1"
  }
 },
 "nbformat": 4,
 "nbformat_minor": 5
}
