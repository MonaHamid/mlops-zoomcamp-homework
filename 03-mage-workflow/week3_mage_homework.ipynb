{
 "cells": [
  {
   "cell_type": "markdown",
   "id": "d23747db",
   "metadata": {},
   "source": [
    "# MLOps Zoomcamp – Week 3 Homework (Mage + MLflow)\n",
    "\n",
    "This notebook contains:\n",
    "- All 6 homework questions (as markdown)\n",
    "- Code to answer each question\n",
    "- MLflow tracking\n"
   ]
  },
  {
   "cell_type": "markdown",
   "id": "647b2270",
   "metadata": {},
   "source": [
    "\n",
    "## Question 1. Select the Tool  \n",
    "**What's the name of the orchestrator you chose?**  \n",
    "→ Answer: Mage  \n",
    "## Question 2. Version  \n",
    "**What's the version of the orchestrator?**  \n",
    "→ Answer: Mage version `0.9.76"
   ]
  },
  {
   "cell_type": "code",
   "execution_count": 7,
   "id": "69794c0c",
   "metadata": {},
   "outputs": [
    {
     "name": "stdout",
     "output_type": "stream",
     "text": [
      "Q3 - Raw data shape: (3403766, 19)\n"
     ]
    }
   ],
   "source": [
    "#Q3 Load Data\n",
    "\n",
    "import pandas as pd\n",
    "\n",
    "url = \"https://d37ci6vzurychx.cloudfront.net/trip-data/yellow_tripdata_2023-03.parquet\"\n",
    "df = pd.read_parquet(url)\n",
    "print(\"Q3 - Raw data shape:\", df.shape)"
   ]
  },
  {
   "cell_type": "markdown",
   "id": "54872e1e",
   "metadata": {},
   "source": [
    "## Question 4. Data preparation  \n",
    "Clean the data using the following logic:\n",
    "- Calculate `duration`\n",
    "- Filter out rides shorter than 1 or longer than 60 minutes\n",
    "- Convert categorical columns to string\n",
    "\n",
    "What's the size of the result?  \n",
    "→ Options: 2,903,766 | 3,103,766 | 3,316,216 | 3,503,766\n"
   ]
  },
  {
   "cell_type": "code",
   "execution_count": 8,
   "id": "6a0cac4b",
   "metadata": {},
   "outputs": [
    {
     "name": "stdout",
     "output_type": "stream",
     "text": [
      "Q4 - Cleaned data shape: (3316216, 20)\n"
     ]
    }
   ],
   "source": [
    "#Q4 Clean Data\n",
    "\n",
    "df['duration'] = df.tpep_dropoff_datetime - df.tpep_pickup_datetime\n",
    "df['duration'] = df['duration'].dt.total_seconds() / 60\n",
    "\n",
    "df = df[(df.duration >= 1) & (df.duration <= 60)]\n",
    "df[['PULocationID', 'DOLocationID']] = df[['PULocationID', 'DOLocationID']].astype(str)\n",
    "print(\"Q4 - Cleaned data shape:\", df.shape)"
   ]
  },
  {
   "cell_type": "markdown",
   "id": "39391828",
   "metadata": {},
   "source": [
    "## Question 5. Train a Model  \n",
    "Train a linear regression using pickup/dropoff IDs as features.  \n",
    "Use `DictVectorizer`. Don't combine features.\n",
    "\n",
    "What is the intercept?  \n",
    "→ Options: 21.77 | 24.77 | 27.77 | 31.77\n"
   ]
  },
  {
   "cell_type": "code",
   "execution_count": 9,
   "id": "69b16a30",
   "metadata": {},
   "outputs": [
    {
     "name": "stdout",
     "output_type": "stream",
     "text": [
      "Q5 - Intercept: 24.77\n"
     ]
    }
   ],
   "source": [
    "from sklearn.feature_extraction import DictVectorizer\n",
    "from sklearn.linear_model import LinearRegression\n",
    "\n",
    "train_dicts = df[['PULocationID', 'DOLocationID']].to_dict(orient='records')\n",
    "\n",
    "dv = DictVectorizer()\n",
    "X_train = dv.fit_transform(train_dicts)\n",
    "y_train = df['duration'].values\n",
    "\n",
    "model = LinearRegression()\n",
    "model.fit(X_train, y_train)\n",
    "\n",
    "print(\"Q5 - Intercept:\", round(model.intercept_, 2))\n"
   ]
  },
  {
   "cell_type": "markdown",
   "id": "ab3328bd",
   "metadata": {},
   "source": [
    "## Question 6. Register the Model  \n",
    "Log the model using MLflow. Check the size of the `MLmodel` file.\n",
    "\n",
    "What’s the size of the model?  \n",
    "→ Options: 14,534 | 9,534 | 4,534 | 1,534\n"
   ]
  },
  {
   "cell_type": "code",
   "execution_count": 10,
   "id": "611b310d",
   "metadata": {},
   "outputs": [
    {
     "name": "stderr",
     "output_type": "stream",
     "text": [
      "2025/05/28 10:42:42 INFO mlflow.store.db.utils: Creating initial MLflow database tables...\n",
      "2025/05/28 10:42:42 INFO mlflow.store.db.utils: Updating database tables\n",
      "INFO  [alembic.runtime.migration] Context impl SQLiteImpl.\n",
      "INFO  [alembic.runtime.migration] Will assume non-transactional DDL.\n",
      "INFO  [alembic.runtime.migration] Running upgrade  -> 451aebb31d03, add metric step\n",
      "INFO  [alembic.runtime.migration] Running upgrade 451aebb31d03 -> 90e64c465722, migrate user column to tags\n",
      "INFO  [alembic.runtime.migration] Running upgrade 90e64c465722 -> 181f10493468, allow nulls for metric values\n",
      "INFO  [alembic.runtime.migration] Running upgrade 181f10493468 -> df50e92ffc5e, Add Experiment Tags Table\n",
      "INFO  [alembic.runtime.migration] Running upgrade df50e92ffc5e -> 7ac759974ad8, Update run tags with larger limit\n",
      "INFO  [alembic.runtime.migration] Running upgrade 7ac759974ad8 -> 89d4b8295536, create latest metrics table\n",
      "INFO  [89d4b8295536_create_latest_metrics_table_py] Migration complete!\n",
      "INFO  [alembic.runtime.migration] Running upgrade 89d4b8295536 -> 2b4d017a5e9b, add model registry tables to db\n",
      "INFO  [2b4d017a5e9b_add_model_registry_tables_to_db_py] Adding registered_models and model_versions tables to database.\n",
      "INFO  [2b4d017a5e9b_add_model_registry_tables_to_db_py] Migration complete!\n",
      "INFO  [alembic.runtime.migration] Running upgrade 2b4d017a5e9b -> cfd24bdc0731, Update run status constraint with killed\n",
      "INFO  [alembic.runtime.migration] Running upgrade cfd24bdc0731 -> 0a8213491aaa, drop_duplicate_killed_constraint\n",
      "INFO  [alembic.runtime.migration] Running upgrade 0a8213491aaa -> 728d730b5ebd, add registered model tags table\n",
      "INFO  [alembic.runtime.migration] Running upgrade 728d730b5ebd -> 27a6a02d2cf1, add model version tags table\n",
      "INFO  [alembic.runtime.migration] Running upgrade 27a6a02d2cf1 -> 84291f40a231, add run_link to model_version\n",
      "INFO  [alembic.runtime.migration] Running upgrade 84291f40a231 -> a8c4a736bde6, allow nulls for run_id\n",
      "INFO  [alembic.runtime.migration] Running upgrade a8c4a736bde6 -> 39d1c3be5f05, add_is_nan_constraint_for_metrics_tables_if_necessary\n",
      "INFO  [alembic.runtime.migration] Running upgrade 39d1c3be5f05 -> c48cb773bb87, reset_default_value_for_is_nan_in_metrics_table_for_mysql\n",
      "INFO  [alembic.runtime.migration] Running upgrade c48cb773bb87 -> bd07f7e963c5, create index on run_uuid\n",
      "INFO  [alembic.runtime.migration] Running upgrade bd07f7e963c5 -> 0c779009ac13, add deleted_time field to runs table\n",
      "INFO  [alembic.runtime.migration] Running upgrade 0c779009ac13 -> cc1f77228345, change param value length to 500\n",
      "INFO  [alembic.runtime.migration] Running upgrade cc1f77228345 -> 97727af70f4d, Add creation_time and last_update_time to experiments table\n",
      "INFO  [alembic.runtime.migration] Running upgrade 97727af70f4d -> 3500859a5d39, Add Model Aliases table\n",
      "INFO  [alembic.runtime.migration] Running upgrade 3500859a5d39 -> 7f2a7d5fae7d, add datasets inputs input_tags tables\n",
      "INFO  [alembic.runtime.migration] Running upgrade 7f2a7d5fae7d -> 2d6e25af4d3e, increase max param val length from 500 to 8000\n",
      "INFO  [alembic.runtime.migration] Running upgrade 2d6e25af4d3e -> acf3f17fdcc7, add storage location field to model versions\n",
      "INFO  [alembic.runtime.migration] Running upgrade acf3f17fdcc7 -> 867495a8f9d4, add trace tables\n",
      "INFO  [alembic.runtime.migration] Running upgrade 867495a8f9d4 -> 5b0e9adcef9c, add cascade deletion to trace tables foreign keys\n",
      "INFO  [alembic.runtime.migration] Running upgrade 5b0e9adcef9c -> 4465047574b1, increase max dataset schema size\n",
      "INFO  [alembic.runtime.migration] Running upgrade 4465047574b1 -> f5a4f2784254, increase run tag value limit to 8000\n",
      "INFO  [alembic.runtime.migration] Running upgrade f5a4f2784254 -> 0584bdc529eb, add cascading deletion to datasets from experiments\n",
      "INFO  [alembic.runtime.migration] Context impl SQLiteImpl.\n",
      "INFO  [alembic.runtime.migration] Will assume non-transactional DDL.\n",
      "2025/05/28 10:42:43 INFO mlflow.tracking.fluent: Experiment with name 'nyc-taxi' does not exist. Creating a new experiment.\n",
      "\u001b[31m2025/05/28 10:42:49 WARNING mlflow.models.model: Model logged without a signature and input example. Please set `input_example` parameter when logging the model to auto infer the model signature.\u001b[0m\n"
     ]
    }
   ],
   "source": [
    "import mlflow\n",
    "import mlflow.sklearn\n",
    "\n",
    "mlflow.set_tracking_uri(\"sqlite:///mlflow.db\")\n",
    "mlflow.set_experiment(\"nyc-taxi\")\n",
    "\n",
    "with mlflow.start_run():\n",
    "    mlflow.log_param(\"model_type\", \"LinearRegression\")\n",
    "    mlflow.log_param(\"intercept\", model.intercept_)\n",
    "    mlflow.sklearn.log_model(model, \"model\")\n"
   ]
  }
 ],
 "metadata": {
  "kernelspec": {
   "display_name": "Python 3",
   "language": "python",
   "name": "python3"
  },
  "language_info": {
   "codemirror_mode": {
    "name": "ipython",
    "version": 3
   },
   "file_extension": ".py",
   "mimetype": "text/x-python",
   "name": "python",
   "nbconvert_exporter": "python",
   "pygments_lexer": "ipython3",
   "version": "3.12.1"
  }
 },
 "nbformat": 4,
 "nbformat_minor": 5
}
